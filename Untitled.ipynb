{
 "cells": [
  {
   "cell_type": "markdown",
   "id": "a81d84f1",
   "metadata": {},
   "source": [
    "# 0. Imports and Useful Values"
   ]
  },
  {
   "cell_type": "code",
   "execution_count": 1,
   "id": "309621dd",
   "metadata": {},
   "outputs": [],
   "source": [
    "import tftpredict\n",
    "import os\n",
    "import pickle\n",
    "from collections import defaultdict\n",
    "import pandas as pd\n",
    "import numpy as np\n",
    "import matplotlib.pyplot as plt\n",
    "from sklearn.model_selection import train_test_split\n",
    "\n",
    "\n",
    "# Some useful global parameters\n",
    "rng_seed = 42\n",
    "api_key = \"RGAPI-ba2fb131-9dfa-424f-b69f-44af41b5bc6f\"\n",
    "data_out = \"Set10\" # This is where all of your data will be stored"
   ]
  },
  {
   "cell_type": "markdown",
   "id": "34b7fd95",
   "metadata": {},
   "source": [
    "# 1a. Data Collection: High Rank IDs"
   ]
  },
  {
   "cell_type": "code",
   "execution_count": null,
   "id": "f62381b9",
   "metadata": {},
   "outputs": [],
   "source": [
    "%%time\n",
    "puuids = list(set(tftpredict.get_player_puuids('challenger', api_key) + tftpredict.get_player_puuids('grandmaster')))# + tftpredict.get_player_puuids('master')))\n",
    "print(len(puuids))"
   ]
  },
  {
   "cell_type": "markdown",
   "id": "93ef87a4",
   "metadata": {},
   "source": [
    "# 1b. Data Collection: Match IDs"
   ]
  },
  {
   "cell_type": "code",
   "execution_count": null,
   "id": "81f53ed7",
   "metadata": {},
   "outputs": [],
   "source": [
    "%%time\n",
    "match_ids = tftpredict.get_match_ids(puuids, 1701388800, api_key) # 1701388800 is Dec 01 2023; the goal was to give some time between set launch\n",
    "print(len(match_ids))"
   ]
  },
  {
   "cell_type": "markdown",
   "id": "5b8a926c",
   "metadata": {},
   "source": [
    "# 1c. Data Collection: Match Data"
   ]
  },
  {
   "cell_type": "code",
   "execution_count": null,
   "id": "16ad8703",
   "metadata": {
    "scrolled": true
   },
   "outputs": [],
   "source": [
    "%%time\n",
    "tftpredict.get_match_data(match_ids, data_out, api_key)"
   ]
  },
  {
   "cell_type": "markdown",
   "id": "9601969b-e75e-4ebb-a94f-cd90e1bd87c4",
   "metadata": {},
   "source": [
    "# 1d. Data Collection: Data Compilation"
   ]
  },
  {
   "cell_type": "code",
   "execution_count": 4,
   "id": "9930f916-5562-4ce2-9aa4-39414c00484b",
   "metadata": {},
   "outputs": [],
   "source": [
    "data = tftpredict.compile_data(data_out)"
   ]
  },
  {
   "cell_type": "markdown",
   "id": "12c1faef",
   "metadata": {},
   "source": [
    "# 2. Feature Engineering"
   ]
  },
  {
   "cell_type": "code",
   "execution_count": 5,
   "id": "c8758957-269b-4529-aa72-be6b8f65079d",
   "metadata": {},
   "outputs": [],
   "source": [
    "def get_match_vector(p1, p2, q_features = True):\n",
    "    match_vector = defaultdict(float)\n",
    "\n",
    "    # Level\n",
    "    match_vector[\"p1_level\"] = p1['level']\n",
    "    match_vector[\"p2_level\"] = p2['level']\n",
    "\n",
    "    # Traits: # units and tier\n",
    "    for trait in p1['traits']:\n",
    "        match_vector[f\"p1_{trait['name']}_units\"] = trait['num_units']\n",
    "        match_vector[f\"p1_{trait['name']}_tier\"] = trait['tier_current']\n",
    "        if q_features:\n",
    "            match_vector[f\"p1_{trait['name']}_tier_q\"] = trait['tier_current'] ** 2\n",
    "    for trait in p2['traits']:\n",
    "        match_vector[f\"p2_{trait['name']}_units\"] = trait['num_units']\n",
    "        match_vector[f\"p2_{trait['name']}_tier\"] = trait['tier_current']\n",
    "        if q_features:\n",
    "            match_vector[f\"p2_{trait['name']}_tier_q\"] = trait['tier_current'] ** 2\n",
    "\n",
    "    # Units: Binary feature, tier, and item OHE\n",
    "    for unit in p1['units']:\n",
    "        match_vector[f\"p1_{unit['character_id']}\"] = 1\n",
    "        match_vector[f\"p1_{unit['character_id']}_tier\"] = unit['tier']\n",
    "        match_vector[f\"p1_{unit['character_id']}_items\"] = len(unit['itemNames'])\n",
    "        if q_features:\n",
    "            match_vector[f\"p1_{unit['character_id']}_tier_q\"] = unit['tier'] ** 2\n",
    "            match_vector[f\"p1_{unit['character_id']}_items_q\"] = len(unit['itemNames']) ** 2\n",
    "        for item in unit['itemNames']:\n",
    "            match_vector[f\"p1_{unit['character_id']}_{item}\"] += 1\n",
    "    for unit in p2['units']:\n",
    "        match_vector[f\"p2_{unit['character_id']}\"] = 1\n",
    "        match_vector[f\"p2_{unit['character_id']}_tier\"] = unit['tier']\n",
    "        match_vector[f\"p2_{unit['character_id']}_items\"] = len(unit['itemNames'])\n",
    "        if q_features:\n",
    "            match_vector[f\"p2_{unit['character_id']}_tier_q\"] = unit['tier'] ** 2\n",
    "            match_vector[f\"p2_{unit['character_id']}_items_q\"] = len(unit['itemNames']) ** 2\n",
    "        for item in unit['itemNames']:\n",
    "            match_vector[f\"p2_{unit['character_id']}_{item}\"] += 1\n",
    "\n",
    "    # Augments: OHE\n",
    "    for augment in p1['augments']:\n",
    "        match_vector[f\"p1_{augment}\"] = 1\n",
    "    for augment in p2['augments']:\n",
    "        match_vector[f\"p2_{augment}\"] = 1\n",
    "\n",
    "    return pd.Series(match_vector)\n"
   ]
  },
  {
   "cell_type": "code",
   "execution_count": 6,
   "id": "e73992ee-3cd6-43e7-b54a-4d03280c52fa",
   "metadata": {},
   "outputs": [],
   "source": [
    "#y, X = tftpredict.fit_features(data, get_match_vector, data_out, 'linear_features')\n",
    "y, X = tftpredict.fit_features(data, get_match_vector, data_out, 'quadratic_features')"
   ]
  },
  {
   "cell_type": "markdown",
   "id": "302860f3-44fa-46fc-9141-e89fe6f0f806",
   "metadata": {},
   "source": [
    "# 3. Model Building - Preprocessing"
   ]
  },
  {
   "cell_type": "code",
   "execution_count": 7,
   "id": "7488e8e1",
   "metadata": {},
   "outputs": [],
   "source": [
    "X = X.values\n",
    "X_train, X_test, y_train, y_test = train_test_split(X, y, test_size=0.2, random_state = rng_seed)"
   ]
  },
  {
   "cell_type": "markdown",
   "id": "18d38640-5287-4c09-b163-d095c9d49677",
   "metadata": {},
   "source": [
    "# 3. Model Building - Logistic Regression"
   ]
  },
  {
   "cell_type": "code",
   "execution_count": 8,
   "id": "f4ef29f2-1864-45b9-9113-48c8f3e85d98",
   "metadata": {},
   "outputs": [
    {
     "name": "stdout",
     "output_type": "stream",
     "text": [
      "Accuracy: 0.7720\n",
      "Confusion Matrix:\n",
      "[[2347  702]\n",
      " [ 662 2272]]\n",
      "\n",
      "Classification Report:\n",
      "              precision    recall  f1-score   support\n",
      "\n",
      "           0       0.78      0.77      0.77      3049\n",
      "           1       0.76      0.77      0.77      2934\n",
      "\n",
      "    accuracy                           0.77      5983\n",
      "   macro avg       0.77      0.77      0.77      5983\n",
      "weighted avg       0.77      0.77      0.77      5983\n",
      "\n"
     ]
    },
    {
     "name": "stderr",
     "output_type": "stream",
     "text": [
      "/Library/Frameworks/Python.framework/Versions/3.12/lib/python3.12/site-packages/sklearn/linear_model/_logistic.py:460: ConvergenceWarning: lbfgs failed to converge (status=1):\n",
      "STOP: TOTAL NO. of ITERATIONS REACHED LIMIT.\n",
      "\n",
      "Increase the number of iterations (max_iter) or scale the data as shown in:\n",
      "    https://scikit-learn.org/stable/modules/preprocessing.html\n",
      "Please also refer to the documentation for alternative solver options:\n",
      "    https://scikit-learn.org/stable/modules/linear_model.html#logistic-regression\n",
      "  n_iter_i = _check_optimize_result(\n"
     ]
    }
   ],
   "source": [
    "from sklearn.linear_model import LogisticRegression\n",
    "from sklearn.metrics import accuracy_score, classification_report, confusion_matrix\n",
    "\n",
    "# Create a Logistic Regression model\n",
    "logreg_model = LogisticRegression()\n",
    "\n",
    "# Train the model\n",
    "logreg_model.fit(X_train, y_train)\n",
    "\n",
    "# Make predictions on the test set\n",
    "y_pred = logreg_model.predict(X_test)\n",
    "\n",
    "# Evaluate accuracy\n",
    "accuracy = accuracy_score(y_test, y_pred)\n",
    "print(f'Accuracy: {accuracy:.4f}')\n",
    "\n",
    "# Display confusion matrix and classification report\n",
    "conf_matrix = confusion_matrix(y_test, y_pred)\n",
    "class_report = classification_report(y_test, y_pred)\n",
    "\n",
    "print('Confusion Matrix:')\n",
    "print(conf_matrix)\n",
    "\n",
    "print('\\nClassification Report:')\n",
    "print(class_report)"
   ]
  },
  {
   "cell_type": "code",
   "execution_count": null,
   "id": "07f432f0-12c4-46d1-b51d-81101358c1b2",
   "metadata": {},
   "outputs": [],
   "source": []
  },
  {
   "cell_type": "code",
   "execution_count": null,
   "id": "c7bb3bfd",
   "metadata": {},
   "outputs": [],
   "source": [
    "from sklearn import datasets\n",
    "from sklearn.svm import SVC\n",
    "from sklearn.metrics import accuracy_score\n",
    "\n",
    "# Load a dataset (e.g., the famous Iris dataset)\n",
    "X = X.values\n",
    "\n",
    "# Split the data into training and testing sets\n",
    "X_train, X_test, y_train, y_test = train_test_split(X, y, test_size=0.2, random_state=42)\n",
    "\n",
    "# Create an SVC model\n",
    "svc_model = SVC(kernel='linear', C=1)\n",
    "\n",
    "# Train the model\n",
    "svc_model.fit(X_train, y_train)\n",
    "\n",
    "# Make predictions\n",
    "y_pred = svc_model.predict(X_test)\n",
    "\n",
    "# Evaluate the model\n",
    "accuracy = accuracy_score(y_test, y_pred)\n",
    "print(f'Accuracy: {accuracy:.4f}')\n"
   ]
  },
  {
   "cell_type": "code",
   "execution_count": null,
   "id": "1cbca69b",
   "metadata": {},
   "outputs": [],
   "source": []
  },
  {
   "cell_type": "code",
   "execution_count": null,
   "id": "667913ad-886d-4d06-b2e8-655bf04b9cd4",
   "metadata": {},
   "outputs": [],
   "source": []
  }
 ],
 "metadata": {
  "kernelspec": {
   "display_name": "Python 3 (ipykernel)",
   "language": "python",
   "name": "python3"
  },
  "language_info": {
   "codemirror_mode": {
    "name": "ipython",
    "version": 3
   },
   "file_extension": ".py",
   "mimetype": "text/x-python",
   "name": "python",
   "nbconvert_exporter": "python",
   "pygments_lexer": "ipython3",
   "version": "3.12.0"
  }
 },
 "nbformat": 4,
 "nbformat_minor": 5
}
